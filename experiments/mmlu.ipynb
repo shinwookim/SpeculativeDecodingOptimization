{
 "cells": [
  {
   "cell_type": "markdown",
   "metadata": {},
   "source": [
    "# How to Run MMLU with Generative Models (Hugging Face Transformers)\n",
    "Based on: https://github.com/FranxYao/chain-of-thought-hub/blob/main/MMLU/run_mmlu_open_source.py"
   ]
  },
  {
   "cell_type": "code",
   "execution_count": 1,
   "metadata": {},
   "outputs": [],
   "source": [
    "import json\n",
    "import os\n",
    "import time\n",
    "import pandas as pd\n",
    "import torch\n",
    "from tqdm import tqdm\n",
    "from transformers import AutoTokenizer, AutoModelForCausalLM\n",
    "import gc"
   ]
  },
  {
   "cell_type": "code",
   "execution_count": 2,
   "metadata": {},
   "outputs": [],
   "source": [
    "HF_CACHE_LOCATION = \"/data/shk148/models/opt/cache\"\n",
    "\n",
    "TASKS = [\n",
    "        'abstract_algebra',\n",
    "        'anatomy',\n",
    "        'astronomy',\n",
    "        'business_ethics',\n",
    "        'clinical_knowledge',\n",
    "        'college_biology',\n",
    "        'college_chemistry',\n",
    "        'college_computer_science',\n",
    "        'college_mathematics',\n",
    "        'college_medicine',\n",
    "        'college_physics',\n",
    "        'computer_security',\n",
    "        'conceptual_physics',\n",
    "        'econometrics',\n",
    "        'electrical_engineering',\n",
    "        'elementary_mathematics',\n",
    "        'formal_logic',\n",
    "        'global_facts',\n",
    "        'high_school_biology',\n",
    "        'high_school_chemistry',\n",
    "        'high_school_computer_science',\n",
    "        'high_school_european_history',\n",
    "        'high_school_geography',\n",
    "        'high_school_government_and_politics',\n",
    "        'high_school_macroeconomics',\n",
    "        'high_school_mathematics',\n",
    "        'high_school_microeconomics',\n",
    "        'high_school_physics',\n",
    "        'high_school_psychology',\n",
    "        'high_school_statistics',\n",
    "        'high_school_us_history',\n",
    "        'high_school_world_history',\n",
    "        'human_aging',\n",
    "        'human_sexuality',\n",
    "        'international_law',\n",
    "        'jurisprudence',\n",
    "        'logical_fallacies',\n",
    "        'machine_learning',\n",
    "        'management',\n",
    "        'marketing',\n",
    "        'medical_genetics',\n",
    "        'miscellaneous',\n",
    "        'moral_disputes',\n",
    "        'moral_scenarios',\n",
    "        'nutrition',\n",
    "        'philosophy',\n",
    "        'prehistory',\n",
    "        'professional_accounting',\n",
    "        'professional_law',\n",
    "        'professional_medicine',\n",
    "        'professional_psychology',\n",
    "        'public_relations',\n",
    "        'security_studies', \n",
    "        'sociology',\n",
    "        'us_foreign_policy',\n",
    "        'virology',\n",
    "        'world_religions'\n",
    "        ]\n",
    "\n",
    "choices = [\"A\", \"B\", \"C\", \"D\"]\n",
    "DATA_DIR = \"/data/shk148/MMLU\""
   ]
  },
  {
   "cell_type": "code",
   "execution_count": 3,
   "metadata": {},
   "outputs": [],
   "source": [
    "# Helper Functions: Largely unchanged from https://github.com/FranxYao/chain-of-thought-hub/blob/main/MMLU/run_mmlu_open_source.py\n",
    "\n",
    "def compute_metric(output_filename):\n",
    "    with open(output_filename, 'r') as f:\n",
    "        run_results = json.load(f)\n",
    "    total_acc = 0\n",
    "    total_num = 0\n",
    "    for task in run_results:\n",
    "        acc = 0\n",
    "        pred_answers = run_results[task]['pred_answers']\n",
    "        gold_answers = run_results[task]['gold_answers']\n",
    "        for pred, gold in zip(pred_answers, gold_answers):\n",
    "            if pred == gold: acc += 1\n",
    "        print(\"ACC-%s: %.4f\" % (task, acc/len(gold_answers)))\n",
    "        total_acc += acc\n",
    "        total_num += len(gold_answers)\n",
    "    print(\"ACC-all: %.4f\" % (total_acc/total_num))\n",
    "\n",
    "\n",
    "def format_subject(subject):\n",
    "    l = subject.split(\"_\")\n",
    "    s = \"\"\n",
    "    for entry in l:\n",
    "        s += \" \" + entry\n",
    "    return s\n",
    "\n",
    "def format_example(df, idx, include_answer=True):\n",
    "    prompt = df.iloc[idx, 0]\n",
    "    k = df.shape[1] - 2\n",
    "    for j in range(k):\n",
    "        prompt += \"\\n{}. {}\".format(choices[j], df.iloc[idx, j+1])\n",
    "    prompt += \"\\nAnswer:\"\n",
    "    if include_answer:\n",
    "        prompt += \" {}\\n\\n\".format(df.iloc[idx, k + 1])\n",
    "    return prompt\n",
    "\n",
    "def gen_prompt(train_df, subject, k=-1):\n",
    "    prompt = \"The following are multiple choice questions (with answers) about {}.\\n\\n\".format(format_subject(subject))\n",
    "    if k == -1:\n",
    "        k = train_df.shape[0]\n",
    "    for i in range(k):\n",
    "        prompt += format_example(train_df, i)\n",
    "    return prompt\n",
    "\n",
    "def prepare_input(tokenizer, prompts):\n",
    "    input_tokens = tokenizer.batch_encode_plus(prompts, return_tensors=\"pt\", padding=True)\n",
    "    input_tokens = {k:input_tokens[k] for k in input_tokens if k in [\"input_ids\", \"attention_mask\"]}\n",
    "    for t in input_tokens:\n",
    "        if torch.is_tensor(input_tokens[t]):\n",
    "            input_tokens[t] = input_tokens[t].to('cuda')\n",
    "\n",
    "    return input_tokens\n",
    "\n",
    "def batch_split(prompts, batch_num):\n",
    "    batch_prompts = []\n",
    "    mini_batch = []\n",
    "    for prompt in prompts:\n",
    "        mini_batch.append(prompt)\n",
    "        if len(mini_batch) == batch_num:\n",
    "            batch_prompts.append(mini_batch)\n",
    "            mini_batch = []\n",
    "    if len(mini_batch) != 0:\n",
    "        batch_prompts.append(mini_batch)\n",
    "    return batch_prompts\n",
    "\n",
    "def batch_infer(model, tokenizer, prompts):\n",
    "    batch_size = 8\n",
    "    answers = []\n",
    "    for batch_input in tqdm(batch_split(prompts, batch_size)):\n",
    "        encode_inputs = prepare_input(tokenizer, batch_input)\n",
    "        outputs = model.generate(**encode_inputs, max_new_tokens=1, pad_token_id=tokenizer.pad_token_id)\n",
    "        answers.extend(tokenizer.batch_decode(outputs, skip_special_tokens=True))\n",
    "    answers = [answer[-1] for answer in answers]\n",
    "    return answers\n"
   ]
  },
  {
   "cell_type": "code",
   "execution_count": 4,
   "metadata": {},
   "outputs": [],
   "source": [
    "def load(checkpoint, model_type):\n",
    "    n_gpus = torch.cuda.device_count()\n",
    "    \n",
    "    model = AutoModelForCausalLM.from_pretrained(checkpoint, cache_dir=HF_CACHE_LOCATION).cuda()\n",
    "    tokenizer = AutoTokenizer.from_pretrained(checkpoint, cache_dir=HF_CACHE_LOCATION, padding_side='left')      \n",
    "    model.eval()\n",
    "    return model, tokenizer"
   ]
  },
  {
   "cell_type": "code",
   "execution_count": 5,
   "metadata": {},
   "outputs": [],
   "source": [
    "def main(ckpt_dir: str, param_size: str, model_type: str):\n",
    "    \n",
    "    run_results = {}\n",
    "    output_filename = 'run_results_%s_%sb.json' % (model_type, param_size)\n",
    "    \n",
    "    model, tokenizer = load(ckpt_dir, model_type)\n",
    "    start_time = time.time()\n",
    "    for task in TASKS:\n",
    "        print('Testing %s ...' % task)\n",
    "        records = []\n",
    "        dev_df = pd.read_csv(os.path.join(DATA_DIR, \"dev\", task + \"_dev.csv\"), header=None)[:5]\n",
    "        test_df = pd.read_csv(os.path.join(DATA_DIR, \"test\", task + \"_test.csv\"), header=None)\n",
    "        for i in range(test_df.shape[0]):\n",
    "            # get prompt and make sure it fits\n",
    "            k = 5\n",
    "            prompt_end = format_example(test_df, i, include_answer=False)\n",
    "            train_prompt = gen_prompt(dev_df, task, k)\n",
    "            prompt = train_prompt + prompt_end\n",
    "            while len(tokenizer.tokenize(prompt)) + 1> 2048: # bos token\n",
    "                prompt_split = prompt.split(\"\\n\\n\")\n",
    "                prompt_split.pop(1)\n",
    "                prompt = '\\n\\n'.join(prompt_split)\n",
    "            label = test_df.iloc[i, test_df.shape[1]-1]\n",
    "            records.append({'prompt':prompt, 'answer':label})\n",
    "\n",
    "        pred_answers = batch_infer(model, tokenizer, [record['prompt'] for record in records])\n",
    "        gold_answers = [record['answer'] for record in records]\n",
    "        run_results[task] = {'pred_answers':pred_answers, 'gold_answers':gold_answers}\n",
    "    with open(output_filename, 'w') as f:\n",
    "        json.dump(run_results, f, ensure_ascii=False, indent=2)\n",
    "    \n",
    "    compute_metric(output_filename)\n",
    "    end_time = time.time()\n",
    "    print(\"total run time %.2f\" % (end_time - start_time))\n",
    "    del model\n",
    "    del tokenizer\n",
    "    return (end_time - start_time)"
   ]
  },
  {
   "cell_type": "code",
   "execution_count": 6,
   "metadata": {},
   "outputs": [
    {
     "name": "stdout",
     "output_type": "stream",
     "text": [
      "Testing abstract_algebra ...\n"
     ]
    },
    {
     "name": "stderr",
     "output_type": "stream",
     "text": [
      "100%|██████████| 13/13 [00:00<00:00, 15.21it/s]\n"
     ]
    },
    {
     "name": "stdout",
     "output_type": "stream",
     "text": [
      "ACC-abstract_algebra: 0.2900\n",
      "ACC-all: 0.2900\n",
      "total run time 0.95\n",
      "Testing abstract_algebra ...\n"
     ]
    },
    {
     "name": "stderr",
     "output_type": "stream",
     "text": [
      "100%|██████████| 13/13 [00:01<00:00, 10.44it/s]\n"
     ]
    },
    {
     "name": "stdout",
     "output_type": "stream",
     "text": [
      "ACC-abstract_algebra: 0.2200\n",
      "ACC-all: 0.2200\n",
      "total run time 1.33\n",
      "Testing abstract_algebra ...\n"
     ]
    },
    {
     "name": "stderr",
     "output_type": "stream",
     "text": [
      "100%|██████████| 13/13 [00:04<00:00,  2.86it/s]\n"
     ]
    },
    {
     "name": "stdout",
     "output_type": "stream",
     "text": [
      "ACC-abstract_algebra: 0.2600\n",
      "ACC-all: 0.2600\n",
      "total run time 4.63\n",
      "Testing abstract_algebra ...\n"
     ]
    },
    {
     "name": "stderr",
     "output_type": "stream",
     "text": [
      "100%|██████████| 13/13 [00:08<00:00,  1.48it/s]\n"
     ]
    },
    {
     "name": "stdout",
     "output_type": "stream",
     "text": [
      "ACC-abstract_algebra: 0.1900\n",
      "ACC-all: 0.1900\n",
      "total run time 8.89\n"
     ]
    },
    {
     "data": {
      "application/vnd.jupyter.widget-view+json": {
       "model_id": "fc4f596f45ff4427a27fd14197e390c6",
       "version_major": 2,
       "version_minor": 0
      },
      "text/plain": [
       "Loading checkpoint shards:   0%|          | 0/2 [00:00<?, ?it/s]"
      ]
     },
     "metadata": {},
     "output_type": "display_data"
    },
    {
     "name": "stdout",
     "output_type": "stream",
     "text": [
      "Testing abstract_algebra ...\n"
     ]
    },
    {
     "name": "stderr",
     "output_type": "stream",
     "text": [
      "100%|██████████| 13/13 [00:22<00:00,  1.74s/it]\n"
     ]
    },
    {
     "name": "stdout",
     "output_type": "stream",
     "text": [
      "ACC-abstract_algebra: 0.2500\n",
      "ACC-all: 0.2500\n",
      "total run time 22.72\n",
      "{'facebook/opt-125m': 0.94742751121521, 'facebook/opt-350m': 1.3316192626953125, 'facebook/opt-1.3b': 4.629910469055176, 'facebook/opt-2.7b': 8.892475128173828, 'facebook/opt-6.7b': 22.72069764137268}\n"
     ]
    }
   ],
   "source": [
    "\n",
    "draft_models = [\n",
    "\t\"facebook/opt-125m\",\n",
    "\t\"facebook/opt-350m\",\n",
    "\t\"facebook/opt-1.3b\",\n",
    "\t\"facebook/opt-2.7b\",\n",
    "    \"facebook/opt-6.7b\"\n",
    "]\n",
    "rslt = dict()\n",
    "\n",
    "for draft_model in draft_models:\n",
    "    rslt[draft_model] =  main(draft_model, draft_model.replace(\"facebook/opt-\", \"\"), \"OPT\")\n",
    "    gc.collect()\n",
    "    torch.cuda.empty_cache()\n",
    "print(rslt)\n"
   ]
  }
 ],
 "metadata": {
  "kernelspec": {
   "display_name": "Python 3 (ipykernel)",
   "language": "python",
   "name": "python3"
  },
  "language_info": {
   "codemirror_mode": {
    "name": "ipython",
    "version": 3
   },
   "file_extension": ".py",
   "mimetype": "text/x-python",
   "name": "python",
   "nbconvert_exporter": "python",
   "pygments_lexer": "ipython3",
   "version": "3.10.12"
  }
 },
 "nbformat": 4,
 "nbformat_minor": 2
}
