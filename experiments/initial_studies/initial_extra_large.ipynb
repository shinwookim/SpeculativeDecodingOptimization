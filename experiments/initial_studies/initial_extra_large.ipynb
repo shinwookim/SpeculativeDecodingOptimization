{
 "cells": [
  {
   "cell_type": "markdown",
   "metadata": {},
   "source": [
    "# Initial Study: Examining Speculative Decoding Outputs"
   ]
  },
  {
   "cell_type": "code",
   "execution_count": 1,
   "metadata": {},
   "outputs": [],
   "source": [
    "prompt = \"A monolithic operating system differs\"\n",
    "num_iterations = 10\n",
    "target_checkpoint = \"facebook/opt-30b\"\n",
    "\n",
    "draft_models = [\n",
    "    \"facebook/opt-6.7b\",\n",
    "\t\"facebook/opt-2.7b\",\n",
    "\t\"facebook/opt-1.3b\",\n",
    "\t\"facebook/opt-350m\",\n",
    "\t\"facebook/opt-125m\",\n",
    "\t\"facebook/opt-13b\",\n",
    "\t\"facebook/opt-30b\",\n",
    "]\n",
    "\n",
    "model_size = {\n",
    "    \"facebook/opt-125m\": 125 * 1,\n",
    "\t\"facebook/opt-350m\": 350 * 1,\n",
    "\t\"facebook/opt-1.3b\": 1.3 * 1000,\n",
    "\t\"facebook/opt-2.7b\": 2.7 * 1000,\n",
    "    \"facebook/opt-6.7b\": 6.7 * 1000,\n",
    "\t\"facebook/opt-13b\": 13 * 1000,\n",
    "\t\"facebook/opt-30b\": 30 * 1000\n",
    "}"
   ]
  },
  {
   "cell_type": "code",
   "execution_count": 2,
   "metadata": {
    "execution": {
     "iopub.execute_input": "2024-03-27T17:41:26.334967Z",
     "iopub.status.busy": "2024-03-27T17:41:26.334676Z",
     "iopub.status.idle": "2024-03-27T17:41:27.807585Z",
     "shell.execute_reply": "2024-03-27T17:41:27.807016Z"
    }
   },
   "outputs": [
    {
     "data": {
      "application/vnd.jupyter.widget-view+json": {
       "model_id": "8c747420d8e54e54881bd5fb06a0e5c8",
       "version_major": 2,
       "version_minor": 0
      },
      "text/plain": [
       "Loading checkpoint shards:   0%|          | 0/7 [00:00<?, ?it/s]"
      ]
     },
     "metadata": {},
     "output_type": "display_data"
    }
   ],
   "source": [
    "from transformers import AutoModelForCausalLM, AutoTokenizer, QuantoConfig\n",
    "\n",
    "quantization_config = QuantoConfig(weights=\"int4\")\n",
    "\n",
    "# To pre-cache all the OPT models easily (in parallel),\n",
    "# use `../precache_opt_models.py HF_CACHE_LOCATION`\n",
    "HF_CACHE_LOCATION = \"/data/shk148/models/opt/cache\"\n",
    "\n",
    "# For processing on GPU, we use PyTorch\n",
    "# TensorFlow is also available, but Transformers' integration with PyTorch is more robust\n",
    "import torch\n",
    "torch_device = \"cuda\" if torch.cuda.is_available() else \"cpu\"\n",
    "\n",
    "# Load the target model into the GPU\n",
    "target_model = AutoModelForCausalLM.from_pretrained(target_checkpoint, cache_dir=HF_CACHE_LOCATION, device_map=\"auto\", quantization_config=quantization_config)\n",
    "tokenizer = AutoTokenizer.from_pretrained(target_checkpoint, cache_dir=HF_CACHE_LOCATION)\n",
    "\n",
    "# Prepare the inputs\n",
    "inputs = tokenizer(prompt, return_tensors=\"pt\").input_ids.to(torch_device)"
   ]
  },
  {
   "cell_type": "code",
   "execution_count": 3,
   "metadata": {
    "execution": {
     "iopub.execute_input": "2024-03-27T17:41:33.085442Z",
     "iopub.status.busy": "2024-03-27T17:41:33.085038Z",
     "iopub.status.idle": "2024-03-27T17:41:33.089429Z",
     "shell.execute_reply": "2024-03-27T17:41:33.088874Z"
    }
   },
   "outputs": [],
   "source": [
    "import gc\n",
    "import time\n",
    "\n",
    "def evaluate_llm(assistant_checkpoint):\n",
    "    # Perform inference and measure latency\n",
    "    total_time = 0.0\n",
    "\n",
    "    if assistant_checkpoint != target_checkpoint:\n",
    "        assistant_model = AutoModelForCausalLM.from_pretrained(assistant_checkpoint, cache_dir=\"/data/shk148/models/opt/cache\", device_map=\"auto\", quantization_config=quantization_config)\n",
    "        for _ in range(num_iterations):\n",
    "            with torch.no_grad():\n",
    "                start_time = time.time()\n",
    "                output = target_model.generate(inputs, assistant_model=assistant_model, max_new_tokens=100)\n",
    "                total_time += time.time() - start_time\n",
    "                del output\n",
    "            torch.cuda.empty_cache()\n",
    "        del assistant_model\n",
    "    \n",
    "    else:\n",
    "        for _ in range(num_iterations):\n",
    "            with torch.no_grad():\n",
    "                start_time = time.time()\n",
    "                output = target_model.generate(inputs, max_new_tokens=100)\n",
    "                total_time += time.time() - start_time\n",
    "                del output\n",
    "            torch.cuda.empty_cache()\n",
    "    gc.collect()\n",
    "    torch.cuda.empty_cache()\n",
    "    return (total_time / num_iterations)"
   ]
  },
  {
   "cell_type": "code",
   "execution_count": 4,
   "metadata": {
    "execution": {
     "iopub.execute_input": "2024-03-27T17:41:33.097845Z",
     "iopub.status.busy": "2024-03-27T17:41:33.097717Z",
     "iopub.status.idle": "2024-03-27T17:43:36.951364Z",
     "shell.execute_reply": "2024-03-27T17:43:36.950339Z"
    }
   },
   "outputs": [
    {
     "data": {
      "application/vnd.jupyter.widget-view+json": {
       "model_id": "704b7f915fae4eba91b5b7856a2ef495",
       "version_major": 2,
       "version_minor": 0
      },
      "text/plain": [
       "Loading checkpoint shards:   0%|          | 0/2 [00:00<?, ?it/s]"
      ]
     },
     "metadata": {},
     "output_type": "display_data"
    },
    {
     "name": "stderr",
     "output_type": "stream",
     "text": [
      "Calling `_assisted_decoding` directly is deprecated and will be removed in v4.41. Use `generate` or a custom generation loop instead.\n"
     ]
    },
    {
     "data": {
      "application/vnd.jupyter.widget-view+json": {
       "model_id": "39c58f2b1db7427fa1fb647b5451d39c",
       "version_major": 2,
       "version_minor": 0
      },
      "text/plain": [
       "Loading checkpoint shards:   0%|          | 0/3 [00:00<?, ?it/s]"
      ]
     },
     "metadata": {},
     "output_type": "display_data"
    }
   ],
   "source": [
    "results = dict()\n",
    "for model in draft_models:\n",
    "    results[model_size[model]] = evaluate_llm(model)    "
   ]
  },
  {
   "cell_type": "code",
   "execution_count": 12,
   "metadata": {},
   "outputs": [
    {
     "data": {
      "text/html": [
       "<div>\n",
       "<style scoped>\n",
       "    .dataframe tbody tr th:only-of-type {\n",
       "        vertical-align: middle;\n",
       "    }\n",
       "\n",
       "    .dataframe tbody tr th {\n",
       "        vertical-align: top;\n",
       "    }\n",
       "\n",
       "    .dataframe thead th {\n",
       "        text-align: right;\n",
       "    }\n",
       "</style>\n",
       "<table border=\"1\" class=\"dataframe\">\n",
       "  <thead>\n",
       "    <tr style=\"text-align: right;\">\n",
       "      <th></th>\n",
       "      <th>Model</th>\n",
       "      <th>Time</th>\n",
       "    </tr>\n",
       "  </thead>\n",
       "  <tbody>\n",
       "    <tr>\n",
       "      <th>4</th>\n",
       "      <td>125.0</td>\n",
       "      <td>28.913517</td>\n",
       "    </tr>\n",
       "    <tr>\n",
       "      <th>3</th>\n",
       "      <td>350.0</td>\n",
       "      <td>32.922784</td>\n",
       "    </tr>\n",
       "    <tr>\n",
       "      <th>2</th>\n",
       "      <td>1300.0</td>\n",
       "      <td>26.191102</td>\n",
       "    </tr>\n",
       "    <tr>\n",
       "      <th>1</th>\n",
       "      <td>2700.0</td>\n",
       "      <td>24.231034</td>\n",
       "    </tr>\n",
       "    <tr>\n",
       "      <th>0</th>\n",
       "      <td>6700.0</td>\n",
       "      <td>31.574021</td>\n",
       "    </tr>\n",
       "    <tr>\n",
       "      <th>5</th>\n",
       "      <td>13000.0</td>\n",
       "      <td>52.503628</td>\n",
       "    </tr>\n",
       "    <tr>\n",
       "      <th>6</th>\n",
       "      <td>30000.0</td>\n",
       "      <td>62.597807</td>\n",
       "    </tr>\n",
       "  </tbody>\n",
       "</table>\n",
       "</div>"
      ],
      "text/plain": [
       "     Model       Time\n",
       "4    125.0  28.913517\n",
       "3    350.0  32.922784\n",
       "2   1300.0  26.191102\n",
       "1   2700.0  24.231034\n",
       "0   6700.0  31.574021\n",
       "5  13000.0  52.503628\n",
       "6  30000.0  62.597807"
      ]
     },
     "execution_count": 12,
     "metadata": {},
     "output_type": "execute_result"
    }
   ],
   "source": [
    "import pandas as pd\n",
    "df = pd.DataFrame(list(results.items()), columns=['Model', 'Time']).sort_values(by=\"Model\")\n",
    "df"
   ]
  },
  {
   "cell_type": "code",
   "execution_count": 13,
   "metadata": {},
   "outputs": [
    {
     "data": {
      "image/png": "[encoded data removed]",
      "text/plain": [
       "<Figure size 800x600 with 1 Axes>"
      ]
     },
     "metadata": {},
     "output_type": "display_data"
    }
   ],
   "source": [
    "import matplotlib.pyplot as plt\n",
    "no_spec = df.iloc[-1]\n",
    "df = df.drop(df.index[-1])\n",
    "\n",
    "# Plotting\n",
    "plt.figure(figsize=(8, 6))\n",
    "plt.plot(df['Model'], df['Time'], marker='o', linestyle='-')\n",
    "plt.hlines(no_spec['Time'],xmin=df.head(1)['Model'], xmax=df.tail(1)['Model'],color='red')\n",
    "plt.title('Model vs Time')\n",
    "plt.xlabel('Model')\n",
    "plt.ylabel('Time')\n",
    "plt.grid(True)\n",
    "plt.show()\n"
   ]
  }
 ],
 "metadata": {
  "kernelspec": {
   "display_name": "Python 3 (ipykernel)",
   "language": "python",
   "name": "python3"
  },
  "language_info": {
   "codemirror_mode": {
    "name": "ipython",
    "version": 3
   },
   "file_extension": ".py",
   "mimetype": "text/x-python",
   "name": "python",
   "nbconvert_exporter": "python",
   "pygments_lexer": "ipython3",
   "version": "3.10.12"
  },
  "widgets": {
   "application/vnd.jupyter.widget-state+json": {
    "state": {
     "02b7da54b1a0470d96fb3e4ef0c656ee": {
      "model_module": "@jupyter-widgets/base",
      "model_module_version": "2.0.0",
      "model_name": "LayoutModel",
      "state": {
       "_model_module": "@jupyter-widgets/base",
       "_model_module_version": "2.0.0",
       "_model_name": "LayoutModel",
       "_view_count": null,
       "_view_module": "@jupyter-widgets/base",
       "_view_module_version": "2.0.0",
       "_view_name": "LayoutView",
       "align_content": null,
       "align_items": null,
       "align_self": null,
       "border_bottom": null,
       "border_left": null,
       "border_right": null,
       "border_top": null,
       "bottom": null,
       "display": null,
       "flex": null,
       "flex_flow": null,
       "grid_area": null,
       "grid_auto_columns": null,
       "grid_auto_flow": null,
       "grid_auto_rows": null,
       "grid_column": null,
       "grid_gap": null,
       "grid_row": null,
       "grid_template_areas": null,
       "grid_template_columns": null,
       "grid_template_rows": null,
       "height": null,
       "justify_content": null,
       "justify_items": null,
       "left": null,
       "margin": null,
       "max_height": null,
       "max_width": null,
       "min_height": null,
       "min_width": null,
       "object_fit": null,
       "object_position": null,
       "order": null,
       "overflow": null,
       "padding": null,
       "right": null,
       "top": null,
       "visibility": null,
       "width": null
      }
     },
     "120322960745439880f8359a9d4584f0": {
      "model_module": "@jupyter-widgets/controls",
      "model_module_version": "2.0.0",
      "model_name": "HTMLStyleModel",
      "state": {
       "_model_module": "@jupyter-widgets/controls",
       "_model_module_version": "2.0.0",
       "_model_name": "HTMLStyleModel",
       "_view_count": null,
       "_view_module": "@jupyter-widgets/base",
       "_view_module_version": "2.0.0",
       "_view_name": "StyleView",
       "background": null,
       "description_width": "",
       "font_size": null,
       "text_color": null
      }
     },
     "21bd51a5b49b4b8fad1fc89a343289a4": {
      "model_module": "@jupyter-widgets/controls",
      "model_module_version": "2.0.0",
      "model_name": "HBoxModel",
      "state": {
       "_dom_classes": [],
       "_model_module": "@jupyter-widgets/controls",
       "_model_module_version": "2.0.0",
       "_model_name": "HBoxModel",
       "_view_count": null,
       "_view_module": "@jupyter-widgets/controls",
       "_view_module_version": "2.0.0",
       "_view_name": "HBoxView",
       "box_style": "",
       "children": [
        "IPY_MODEL_e60ccb5ec19945ac97b8ec12b71f1eae",
        "IPY_MODEL_31b20c15785f4b0aa10a6004c1c0e2db",
        "IPY_MODEL_a482ddcd96f44ea0a8e2bc03addbfcfc"
       ],
       "layout": "IPY_MODEL_2a7b64e74afa43eaaa92594e992ca888",
       "tabbable": null,
       "tooltip": null
      }
     },
     "250a178d7cf14ce29e57fc6b23f98eb1": {
      "model_module": "@jupyter-widgets/base",
      "model_module_version": "2.0.0",
      "model_name": "LayoutModel",
      "state": {
       "_model_module": "@jupyter-widgets/base",
       "_model_module_version": "2.0.0",
       "_model_name": "LayoutModel",
       "_view_count": null,
       "_view_module": "@jupyter-widgets/base",
       "_view_module_version": "2.0.0",
       "_view_name": "LayoutView",
       "align_content": null,
       "align_items": null,
       "align_self": null,
       "border_bottom": null,
       "border_left": null,
       "border_right": null,
       "border_top": null,
       "bottom": null,
       "display": null,
       "flex": null,
       "flex_flow": null,
       "grid_area": null,
       "grid_auto_columns": null,
       "grid_auto_flow": null,
       "grid_auto_rows": null,
       "grid_column": null,
       "grid_gap": null,
       "grid_row": null,
       "grid_template_areas": null,
       "grid_template_columns": null,
       "grid_template_rows": null,
       "height": null,
       "justify_content": null,
       "justify_items": null,
       "left": null,
       "margin": null,
       "max_height": null,
       "max_width": null,
       "min_height": null,
       "min_width": null,
       "object_fit": null,
       "object_position": null,
       "order": null,
       "overflow": null,
       "padding": null,
       "right": null,
       "top": null,
       "visibility": null,
       "width": null
      }
     },
     "2a7b64e74afa43eaaa92594e992ca888": {
      "model_module": "@jupyter-widgets/base",
      "model_module_version": "2.0.0",
      "model_name": "LayoutModel",
      "state": {
       "_model_module": "@jupyter-widgets/base",
       "_model_module_version": "2.0.0",
       "_model_name": "LayoutModel",
       "_view_count": null,
       "_view_module": "@jupyter-widgets/base",
       "_view_module_version": "2.0.0",
       "_view_name": "LayoutView",
       "align_content": null,
       "align_items": null,
       "align_self": null,
       "border_bottom": null,
       "border_left": null,
       "border_right": null,
       "border_top": null,
       "bottom": null,
       "display": null,
       "flex": null,
       "flex_flow": null,
       "grid_area": null,
       "grid_auto_columns": null,
       "grid_auto_flow": null,
       "grid_auto_rows": null,
       "grid_column": null,
       "grid_gap": null,
       "grid_row": null,
       "grid_template_areas": null,
       "grid_template_columns": null,
       "grid_template_rows": null,
       "height": null,
       "justify_content": null,
       "justify_items": null,
       "left": null,
       "margin": null,
       "max_height": null,
       "max_width": null,
       "min_height": null,
       "min_width": null,
       "object_fit": null,
       "object_position": null,
       "order": null,
       "overflow": null,
       "padding": null,
       "right": null,
       "top": null,
       "visibility": null,
       "width": null
      }
     },
     "31b20c15785f4b0aa10a6004c1c0e2db": {
      "model_module": "@jupyter-widgets/controls",
      "model_module_version": "2.0.0",
      "model_name": "FloatProgressModel",
      "state": {
       "_dom_classes": [],
       "_model_module": "@jupyter-widgets/controls",
       "_model_module_version": "2.0.0",
       "_model_name": "FloatProgressModel",
       "_view_count": null,
       "_view_module": "@jupyter-widgets/controls",
       "_view_module_version": "2.0.0",
       "_view_name": "ProgressView",
       "bar_style": "success",
       "description": "",
       "description_allow_html": false,
       "layout": "IPY_MODEL_250a178d7cf14ce29e57fc6b23f98eb1",
       "max": 2,
       "min": 0,
       "orientation": "horizontal",
       "style": "IPY_MODEL_48b5187f11b942afb148b5ba41bca825",
       "tabbable": null,
       "tooltip": null,
       "value": 2
      }
     },
     "48b5187f11b942afb148b5ba41bca825": {
      "model_module": "@jupyter-widgets/controls",
      "model_module_version": "2.0.0",
      "model_name": "ProgressStyleModel",
      "state": {
       "_model_module": "@jupyter-widgets/controls",
       "_model_module_version": "2.0.0",
       "_model_name": "ProgressStyleModel",
       "_view_count": null,
       "_view_module": "@jupyter-widgets/base",
       "_view_module_version": "2.0.0",
       "_view_name": "StyleView",
       "bar_color": null,
       "description_width": ""
      }
     },
     "58de411ba6594c968c7f1d37a5c3b724": {
      "model_module": "@jupyter-widgets/controls",
      "model_module_version": "2.0.0",
      "model_name": "HTMLStyleModel",
      "state": {
       "_model_module": "@jupyter-widgets/controls",
       "_model_module_version": "2.0.0",
       "_model_name": "HTMLStyleModel",
       "_view_count": null,
       "_view_module": "@jupyter-widgets/base",
       "_view_module_version": "2.0.0",
       "_view_name": "StyleView",
       "background": null,
       "description_width": "",
       "font_size": null,
       "text_color": null
      }
     },
     "a482ddcd96f44ea0a8e2bc03addbfcfc": {
      "model_module": "@jupyter-widgets/controls",
      "model_module_version": "2.0.0",
      "model_name": "HTMLModel",
      "state": {
       "_dom_classes": [],
       "_model_module": "@jupyter-widgets/controls",
       "_model_module_version": "2.0.0",
       "_model_name": "HTMLModel",
       "_view_count": null,
       "_view_module": "@jupyter-widgets/controls",
       "_view_module_version": "2.0.0",
       "_view_name": "HTMLView",
       "description": "",
       "description_allow_html": false,
       "layout": "IPY_MODEL_f9b7c83b89614b9a92767774e6c8a0e4",
       "placeholder": "​",
       "style": "IPY_MODEL_58de411ba6594c968c7f1d37a5c3b724",
       "tabbable": null,
       "tooltip": null,
       "value": " 2/2 [00:01&lt;00:00,  1.56it/s]"
      }
     },
     "e60ccb5ec19945ac97b8ec12b71f1eae": {
      "model_module": "@jupyter-widgets/controls",
      "model_module_version": "2.0.0",
      "model_name": "HTMLModel",
      "state": {
       "_dom_classes": [],
       "_model_module": "@jupyter-widgets/controls",
       "_model_module_version": "2.0.0",
       "_model_name": "HTMLModel",
       "_view_count": null,
       "_view_module": "@jupyter-widgets/controls",
       "_view_module_version": "2.0.0",
       "_view_name": "HTMLView",
       "description": "",
       "description_allow_html": false,
       "layout": "IPY_MODEL_02b7da54b1a0470d96fb3e4ef0c656ee",
       "placeholder": "​",
       "style": "IPY_MODEL_120322960745439880f8359a9d4584f0",
       "tabbable": null,
       "tooltip": null,
       "value": "Loading checkpoint shards: 100%"
      }
     },
     "f9b7c83b89614b9a92767774e6c8a0e4": {
      "model_module": "@jupyter-widgets/base",
      "model_module_version": "2.0.0",
      "model_name": "LayoutModel",
      "state": {
       "_model_module": "@jupyter-widgets/base",
       "_model_module_version": "2.0.0",
       "_model_name": "LayoutModel",
       "_view_count": null,
       "_view_module": "@jupyter-widgets/base",
       "_view_module_version": "2.0.0",
       "_view_name": "LayoutView",
       "align_content": null,
       "align_items": null,
       "align_self": null,
       "border_bottom": null,
       "border_left": null,
       "border_right": null,
       "border_top": null,
       "bottom": null,
       "display": null,
       "flex": null,
       "flex_flow": null,
       "grid_area": null,
       "grid_auto_columns": null,
       "grid_auto_flow": null,
       "grid_auto_rows": null,
       "grid_column": null,
       "grid_gap": null,
       "grid_row": null,
       "grid_template_areas": null,
       "grid_template_columns": null,
       "grid_template_rows": null,
       "height": null,
       "justify_content": null,
       "justify_items": null,
       "left": null,
       "margin": null,
       "max_height": null,
       "max_width": null,
       "min_height": null,
       "min_width": null,
       "object_fit": null,
       "object_position": null,
       "order": null,
       "overflow": null,
       "padding": null,
       "right": null,
       "top": null,
       "visibility": null,
       "width": null
      }
     }
    },
    "version_major": 2,
    "version_minor": 0
   }
  }
 },
 "nbformat": 4,
 "nbformat_minor": 4
}
