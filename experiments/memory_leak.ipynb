{
 "cells": [
  {
   "cell_type": "markdown",
   "metadata": {},
   "source": [
    "# Hugging Face Transformers Memory Leak Demo\n",
    "This notebook demonstrates the possiblity of GPU memory leaks when using Huggingface's Transformers."
   ]
  },
  {
   "cell_type": "code",
   "execution_count": null,
   "metadata": {},
   "outputs": [],
   "source": [
    "import torch # PyTorch\n",
    "import gc # Garbage Collector\n",
    "import os\n",
    "from transformers import AutoModelForCausalLM, AutoTokenizer\n",
    "HF_CACHE_LOCATION = os.getenv(\"HF_CACHE_DIR\")\n",
    "\n",
    "torch_device = \"cuda\" if torch.cuda.is_available() else \"cpu\"\n",
    "\n"
   ]
  },
  {
   "cell_type": "markdown",
   "metadata": {},
   "source": [
    "Before performing inference, we can check the GPU memory usage using `nvidia-smi` command. We can see that the GPU memory usage is 0% before running the code."
   ]
  },
  {
   "cell_type": "code",
   "execution_count": null,
   "metadata": {},
   "outputs": [],
   "source": [
    "!nvidia-smi"
   ]
  },
  {
   "cell_type": "markdown",
   "metadata": {},
   "source": [
    "We can also verify that PyTorch is not using any GPU memory by running `torch.cuda.memory_allocated()`."
   ]
  },
  {
   "cell_type": "code",
   "execution_count": null,
   "metadata": {},
   "outputs": [],
   "source": [
    "print(\"CUDA Memory: \" + str(torch.cuda.memory_reserved())) # Expect Zero"
   ]
  },
  {
   "cell_type": "code",
   "execution_count": null,
   "metadata": {},
   "outputs": [],
   "source": [
    "prompt = \"Functional Programming is\"\n",
    "draft_model_name = \"facebook/opt-125m\"\n",
    "model = AutoModelForCausalLM.from_pretrained(checkpoint, cache_dir = HF_CACHE_LOCATION).to(torch_device)\n",
    "tokenizer = AutoTokenizer.from_pretrained(checkpoint, cache_dir = HF_CACHE_LOCATION)\n",
    "inputs = tokenizer(prompt, return_tensors=\"pt\").input_ids.to(torch_device)\n",
    "\n",
    "with torch.no_grad():\n",
    "    output = model.generate(inputs, max_length= 100)\n",
    "    print(tokenizer.batch_decode(output, skip_special_tokens=True))\n",
    "    del output\n",
    "\n",
    "del prompt, torch_device, checkpoint, model, tokenizer, inputs\n",
    "gc.collect()\n",
    "torch.cuda.empty_cache()\n"
   ]
  },
  {
   "cell_type": "code",
   "execution_count": null,
   "metadata": {},
   "outputs": [],
   "source": []
  }
 ],
 "metadata": {
  "language_info": {
   "name": "python"
  }
 },
 "nbformat": 4,
 "nbformat_minor": 2
}
